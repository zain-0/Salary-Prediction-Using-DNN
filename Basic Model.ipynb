{
 "cells": [
  {
   "cell_type": "code",
   "execution_count": null,
   "metadata": {
    "dotnet_interactive": {
     "language": "csharp"
    },
    "polyglot_notebook": {
     "kernelName": "csharp"
    }
   },
   "outputs": [],
   "source": [
    "# Importing necessary libraries\n",
    "import pandas as pd\n",
    "import seaborn as sns\n",
    "import matplotlib.pyplot as plt\n",
    "from scipy import stats\n",
    "from sklearn.preprocessing import LabelEncoder\n",
    "from sklearn.model_selection import train_test_split\n",
    "from tensorflow.keras.models import Sequential\n",
    "from tensorflow.keras.layers import Dense, LeakyReLU, Dropout\n",
    "from tensorflow.keras import regularizers\n",
    "import tensorflow as tf"
   ]
  },
  {
   "cell_type": "code",
   "execution_count": 1,
   "metadata": {},
   "outputs": [],
   "source": [
    "# Reading the dataset and cleaning missing values\n",
    "df = pd.read_csv(\"Data Salary Prediction.csv\")\n",
    "df = df[df['DOJ'].notna()]\n",
    "df = df[df['AGE'].notna()]\n",
    "df = df[df['LEAVES REMAINING'].notna()]\n",
    "df = df[df['LEAVES USED'].notna()]\n",
    "df.reset_index(drop=True, inplace=True)"
   ]
  },
  {
   "cell_type": "code",
   "execution_count": null,
   "metadata": {
    "dotnet_interactive": {
     "language": "csharp"
    },
    "polyglot_notebook": {
     "kernelName": "csharp"
    }
   },
   "outputs": [],
   "source": [
    "# Displaying the first 10000 rows of the dataset\n",
    "df.head(10000)\n",
    "\n",
    "# Checking the number of missing values in the 'UNIT' column\n",
    "df['UNIT'].isna().sum()"
   ]
  },
  {
   "cell_type": "code",
   "execution_count": null,
   "metadata": {
    "dotnet_interactive": {
     "language": "csharp"
    },
    "polyglot_notebook": {
     "kernelName": "csharp"
    }
   },
   "outputs": [],
   "source": [
    "# Plotting the distribution of the 'SALARY' column\n",
    "sns.histplot(df['SALARY'], kde=True)\n",
    "plt.title('Distribution of SALARY')\n",
    "plt.show()"
   ]
  },
  {
   "cell_type": "code",
   "execution_count": null,
   "metadata": {
    "dotnet_interactive": {
     "language": "csharp"
    },
    "polyglot_notebook": {
     "kernelName": "csharp"
    }
   },
   "outputs": [],
   "source": [
    "# Creating a boxplot for the 'SALARY' column\n",
    "sns.boxplot(x=df['SALARY'])\n",
    "plt.title('Boxplot of SALARY')\n",
    "plt.show()"
   ]
  },
  {
   "cell_type": "code",
   "execution_count": null,
   "metadata": {
    "dotnet_interactive": {
     "language": "csharp"
    },
    "polyglot_notebook": {
     "kernelName": "csharp"
    }
   },
   "outputs": [],
   "source": [
    "# Exploring correlations between variables using a heatmap\n",
    "df= pd.get_dummies(df, columns=['DESIGNATION'], prefix='Desig')\n",
    "correlation_matrix = df.corr()\n",
    "\n",
    "# Visualizing the correlation matrix using a heatmap\n",
    "sns.heatmap(correlation_matrix, annot=True, cmap='coolwarm', fmt=\".2f\")\n",
    "plt.title('Correlation Matrix')\n",
    "plt.show()"
   ]
  },
  {
   "cell_type": "code",
   "execution_count": null,
   "metadata": {
    "dotnet_interactive": {
     "language": "csharp"
    },
    "polyglot_notebook": {
     "kernelName": "csharp"
    }
   },
   "outputs": [],
   "source": [
    "# Exploring relationships between 'SEX', 'PAST EXP', and 'SALARY'\n",
    "sns.pairplot(df, x_vars=['SEX', 'PAST EXP'], y_vars='SALARY', kind='scatter')\n",
    "plt.show()\n"
   ]
  },
  {
   "cell_type": "code",
   "execution_count": null,
   "metadata": {
    "dotnet_interactive": {
     "language": "csharp"
    },
    "polyglot_notebook": {
     "kernelName": "csharp"
    }
   },
   "outputs": [],
   "source": [
    "# Visualizing average salary by designation using a bar plot\n",
    "average_salary_by_designation = df.groupby('DESIGNATION')['SALARY'].mean().reset_index()\n",
    "average_salary_by_designation = average_salary_by_designation.sort_values(by='SALARY', ascending=False)\n",
    "\n",
    "plt.figure(figsize=(12, 6))\n",
    "sns.barplot(x='SALARY', y='DESIGNATION', data=average_salary_by_designation, palette='viridis')\n",
    "plt.title('Average Salary by Designation')\n",
    "plt.xlabel('Average Salary')\n",
    "plt.ylabel('Designation')\n",
    "plt.show()"
   ]
  },
  {
   "cell_type": "code",
   "execution_count": null,
   "metadata": {
    "dotnet_interactive": {
     "language": "csharp"
    },
    "polyglot_notebook": {
     "kernelName": "csharp"
    }
   },
   "outputs": [],
   "source": [
    "# Extracting tenure information from date columns and visualizing correlation\n",
    "df['DATE2'] = pd.to_datetime(df['CURRENT DATE'])\n",
    "df['DATE1'] = pd.to_datetime(df['DOJ'])\n",
    "df['TENURE'] = (df['DATE2'] - df['DATE1']).dt.days\n",
    "df.drop(['DATE1', 'DATE2'], axis=1, inplace=True)\n",
    "correlation_matrix = df.corr()\n",
    "\n",
    "sns.heatmap(correlation_matrix, annot=True, cmap='coolwarm', fmt=\".2f\")\n",
    "plt.title('Correlation Matrix')\n",
    "plt.show()\n"
   ]
  },
  {
   "cell_type": "code",
   "execution_count": null,
   "metadata": {
    "dotnet_interactive": {
     "language": "csharp"
    },
    "polyglot_notebook": {
     "kernelName": "csharp"
    }
   },
   "outputs": [],
   "source": [
    "# Encoding categorical variable 'SEX'\n",
    "label_encoder = LabelEncoder()\n",
    "df['SEX_ENCODED'] = label_encoder.fit_transform(df['SEX'])\n",
    "df.drop('SEX_ENCODED', axis=1, inplace=True)\n",
    "\n",
    "# Splitting the dataset into features and target variables\n",
    "selected_features = ['TENURE', 'AGE', 'Desig_Analyst', 'PAST EXP', 'Desig_Associate', 'Desig_Director', 'Desig_Manager', 'Desig_Senior Analyst', 'Desig_Senior Manager']\n",
    "X = df[selected_features]\n",
    "Y = df['SALARY']\n",
    "X_train, X_test, Y_train, Y_test = train_test_split(X, Y, test_size=0.2, random_state=30)\n"
   ]
  },
  {
   "cell_type": "code",
   "execution_count": null,
   "metadata": {
    "dotnet_interactive": {
     "language": "csharp"
    },
    "polyglot_notebook": {
     "kernelName": "csharp"
    }
   },
   "outputs": [],
   "source": [
    "# Building a neural network model\n",
    "model = Sequential([\n",
    "    Dense(512, activation=LeakyReLU(alpha=0.01), kernel_regularizer=regularizers.l2(0.01), input_shape=(X_train.shape[1],)),\n",
    "    Dropout(0.5),\n",
    "    Dense(256, activation=LeakyReLU(alpha=0.01), kernel_regularizer=regularizers.l2(0.01)),\n",
    "    Dropout(0.5),\n",
    "    Dense(128, activation=LeakyReLU(alpha=0.01), kernel_regularizer=regularizers.l2(0.01)),\n",
    "    Dropout(0.5),\n",
    "    Dense(64, activation=LeakyReLU(alpha=0.01), kernel_regularizer=regularizers.l2(0.01)),\n",
    "    Dropout(0.5),\n",
    "    Dense(32, activation=LeakyReLU(alpha=0.01), kernel_regularizer=regularizers.l2(0.01)),\n",
    "    Dropout(0.5),\n",
    "    Dense(1)\n",
    "])\n",
    "custom_optimizer = tf.keras.optimizers.Adam(learning_rate=0.001)\n",
    "model.compile(optimizer=custom_optimizer, loss='mean_squared_error', metrics=['mae'])\n",
    "\n"
   ]
  },
  {
   "cell_type": "code",
   "execution_count": null,
   "metadata": {
    "dotnet_interactive": {
     "language": "csharp"
    },
    "polyglot_notebook": {
     "kernelName": "csharp"
    }
   },
   "outputs": [],
   "source": [
    "# Evaluating the model performance on the test set\n",
    "from sklearn.metrics import mean_absolute_error, mean_squared_error, r2_score\n",
    "y_pred = model.predict(X_test)\n",
    "mae = mean_absolute_error(Y_test, y_pred)\n",
    "mse = mean_squared_error(Y_test, y_pred)\n",
    "rmse = mean_squared_error(Y_test, y_pred, squared=False)\n",
    "r2 = r2_score(Y_test, y_pred)\n",
    "\n",
    "print(f'Mean Absolute Error: {mae}')\n",
    "print(f'Mean Squared Error: {mse}')\n",
    "print(f'Root Mean Squared Error: {rmse}')\n",
    "print(f'R-squared: {r2}')"
   ]
  }
 ],
 "metadata": {
  "kernelspec": {
   "display_name": ".NET (C#)",
   "language": "C#",
   "name": ".net-csharp"
  },
  "language_info": {
   "name": "polyglot-notebook"
  },
  "polyglot_notebook": {
   "kernelInfo": {
    "defaultKernelName": "csharp",
    "items": [
     {
      "aliases": [],
      "name": "csharp"
     }
    ]
   }
  }
 },
 "nbformat": 4,
 "nbformat_minor": 2
}
